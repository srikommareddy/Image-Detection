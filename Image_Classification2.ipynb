{
 "cells": [
  {
   "cell_type": "code",
   "execution_count": 1,
   "id": "8148af99",
   "metadata": {},
   "outputs": [],
   "source": [
    "import tensorflow as tf\n",
    "from tensorflow.keras import datasets, layers, models\n",
    "import matplotlib.pyplot as plt\n",
    "\n",
    "# Load and preprocess the CIFAR-10 dataset\n",
    "(train_images, train_labels), (test_images, test_labels) = datasets.cifar10.load_data()\n",
    "train_images, test_images = train_images / 255.0, test_images / 255.0"
   ]
  },
  {
   "cell_type": "code",
   "execution_count": 2,
   "id": "4b84c345",
   "metadata": {},
   "outputs": [],
   "source": [
    "# Define the model architecture\n",
    "model = models.Sequential()\n",
    "model.add(layers.Conv2D(32, (3, 3), activation='relu', input_shape=(32, 32, 3)))\n",
    "model.add(layers.MaxPooling2D((2, 2)))\n",
    "model.add(layers.Conv2D(64, (3, 3), activation='relu'))\n",
    "model.add(layers.MaxPooling2D((2, 2)))\n",
    "model.add(layers.Conv2D(64, (3, 3), activation='relu'))\n",
    "model.add(layers.Flatten())\n",
    "model.add(layers.Dense(64, activation='relu'))\n",
    "model.add(layers.Dense(10, activation='softmax'))"
   ]
  },
  {
   "cell_type": "code",
   "execution_count": 3,
   "id": "9e28f186",
   "metadata": {},
   "outputs": [
    {
     "name": "stdout",
     "output_type": "stream",
     "text": [
      "Epoch 1/10\n",
      "1563/1563 [==============================] - 82s 49ms/step - loss: 1.5461 - accuracy: 0.4366 - val_loss: 1.2797 - val_accuracy: 0.5442\n",
      "Epoch 2/10\n",
      "1563/1563 [==============================] - 72s 46ms/step - loss: 1.1980 - accuracy: 0.5747 - val_loss: 1.1153 - val_accuracy: 0.6026\n",
      "Epoch 3/10\n",
      "1563/1563 [==============================] - 72s 46ms/step - loss: 1.0330 - accuracy: 0.6382 - val_loss: 1.0038 - val_accuracy: 0.6472\n",
      "Epoch 4/10\n",
      "1563/1563 [==============================] - 72s 46ms/step - loss: 0.9285 - accuracy: 0.6743 - val_loss: 0.9388 - val_accuracy: 0.6736\n",
      "Epoch 5/10\n",
      "1563/1563 [==============================] - 73s 46ms/step - loss: 0.8506 - accuracy: 0.7020 - val_loss: 0.9047 - val_accuracy: 0.6810\n",
      "Epoch 6/10\n",
      "1563/1563 [==============================] - 70s 44ms/step - loss: 0.7893 - accuracy: 0.7238 - val_loss: 0.9292 - val_accuracy: 0.6802\n",
      "Epoch 7/10\n",
      "1563/1563 [==============================] - 75s 48ms/step - loss: 0.7471 - accuracy: 0.7373 - val_loss: 0.8593 - val_accuracy: 0.7007\n",
      "Epoch 8/10\n",
      "1563/1563 [==============================] - 74s 47ms/step - loss: 0.7022 - accuracy: 0.7542 - val_loss: 0.8696 - val_accuracy: 0.7054\n",
      "Epoch 9/10\n",
      "1563/1563 [==============================] - 74s 47ms/step - loss: 0.6658 - accuracy: 0.7648 - val_loss: 0.8422 - val_accuracy: 0.7128\n",
      "Epoch 10/10\n",
      "1563/1563 [==============================] - 72s 46ms/step - loss: 0.6328 - accuracy: 0.7777 - val_loss: 0.8782 - val_accuracy: 0.7095\n"
     ]
    }
   ],
   "source": [
    "# Compile the model\n",
    "model.compile(optimizer='adam',\n",
    "              loss=tf.keras.losses.SparseCategoricalCrossentropy(from_logits=False),\n",
    "              metrics=['accuracy'])\n",
    "\n",
    "# Train the model\n",
    "history = model.fit(train_images, train_labels, epochs=10, \n",
    "                    validation_data=(test_images, test_labels))"
   ]
  },
  {
   "cell_type": "code",
   "execution_count": 4,
   "id": "87bf6357",
   "metadata": {},
   "outputs": [
    {
     "name": "stdout",
     "output_type": "stream",
     "text": [
      "313/313 - 6s - loss: 0.8782 - accuracy: 0.7095 - 6s/epoch - 18ms/step\n",
      "\n",
      "Test accuracy: 0.7095000147819519\n"
     ]
    },
    {
     "name": "stderr",
     "output_type": "stream",
     "text": [
      "C:\\Users\\shiva\\anaconda3\\Lib\\site-packages\\keras\\src\\engine\\training.py:3079: UserWarning: You are saving your model as an HDF5 file via `model.save()`. This file format is considered legacy. We recommend using instead the native Keras format, e.g. `model.save('my_model.keras')`.\n",
      "  saving_api.save_model(\n"
     ]
    }
   ],
   "source": [
    "# Evaluate the model\n",
    "test_loss, test_acc = model.evaluate(test_images, test_labels, verbose=2)\n",
    "print(f'\\nTest accuracy: {test_acc}')\n",
    "\n",
    "# Save the model\n",
    "model.save('cifar10_cnn_model.h5')"
   ]
  },
  {
   "cell_type": "code",
   "execution_count": null,
   "id": "dddec035",
   "metadata": {},
   "outputs": [],
   "source": []
  }
 ],
 "metadata": {
  "kernelspec": {
   "display_name": "Python 3 (ipykernel)",
   "language": "python",
   "name": "python3"
  },
  "language_info": {
   "codemirror_mode": {
    "name": "ipython",
    "version": 3
   },
   "file_extension": ".py",
   "mimetype": "text/x-python",
   "name": "python",
   "nbconvert_exporter": "python",
   "pygments_lexer": "ipython3",
   "version": "3.11.3"
  }
 },
 "nbformat": 4,
 "nbformat_minor": 5
}
